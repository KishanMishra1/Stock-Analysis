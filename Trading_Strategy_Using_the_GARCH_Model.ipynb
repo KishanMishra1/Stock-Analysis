{
 "cells": [
  {
   "cell_type": "markdown",
   "metadata": {
    "id": "grKUVRSltp1o"
   },
   "source": [
    "# Notebook Instructions\n",
    "\n",
    "1. All the <u>code and data files</u> used in this course are available in the downloadable unit of the <u>last section of this course</u>.\n",
    "2. You can run the notebook document sequentially (one cell at a time) by pressing **shift + enter**. \n",
    "3. While a cell is running, a [*] is shown on the left. After the cell is run, the output will appear on the next line.\n",
    "\n",
    "This course is based on specific versions of python packages. You can find the details of the packages in <a href='https://quantra.quantinsti.com/quantra-notebook' target=\"_blank\" >this manual</a>."
   ]
  },
  {
   "cell_type": "markdown",
   "metadata": {
    "id": "sYQQ6leD21gt"
   },
   "source": [
    "# Strategy using the GARCH predicted volatility\n",
    "\n",
    "As you have learnt in the previous units, the GARCH model is used to predict volatility. The volatility prediction is compared to the historical volatility at the current time step.\n",
    "\n",
    "In this notebook, you will perform the following steps:\n",
    "\n",
    "1. [Read the data](#read)\n",
    "1. [Calculate the annualised historical volatility](#vol)\n",
    "1. [GARCH volatility forecasting](#garch)\n",
    "1. [Generate the trading signals for the strategy](#trade)\n",
    "1. [Analyse the strategy performance](#graph)"
   ]
  },
  {
   "cell_type": "markdown",
   "metadata": {
    "id": "tjhKL9la5qGW"
   },
   "source": [
    "## Import the necessary libraries"
   ]
  },
  {
   "cell_type": "code",
   "execution_count": 1,
   "metadata": {
    "id": "ksmMMuZOCF3O"
   },
   "outputs": [],
   "source": [
    "# Data manipulation\n",
    "import numpy as np\n",
    "import pandas as pd\n",
    "\n",
    "# For implementing the ARCH model\n",
    "from arch import arch_model\n",
    "\n",
    "# For plotting\n",
    "import matplotlib.pyplot as plt\n",
    "%matplotlib inline\n",
    "plt.style.use('seaborn-darkgrid')\n",
    "\n",
    "# Suppress warnings\n",
    "import warnings\n",
    "warnings.filterwarnings('ignore')\n",
    "\n",
    "import sys\n",
    "sys.path.append(\"..\")\n",
    "from data_modules.tsa_functions_quantra import analyse_strategy"
   ]
  },
  {
   "cell_type": "markdown",
   "metadata": {
    "id": "kev2bg2-5-P4"
   },
   "source": [
    "<a id='read'></a> \n",
    "## Read the data"
   ]
  },
  {
   "cell_type": "code",
   "execution_count": 2,
   "metadata": {
    "colab": {
     "base_uri": "https://localhost:8080/",
     "height": 242
    },
    "id": "JXO9SYyQtp1x",
    "outputId": "26461a8b-c4d4-4229-b7cc-991e57c33666"
   },
   "outputs": [
    {
     "data": {
      "text/html": [
       "<div>\n",
       "<style scoped>\n",
       "    .dataframe tbody tr th:only-of-type {\n",
       "        vertical-align: middle;\n",
       "    }\n",
       "\n",
       "    .dataframe tbody tr th {\n",
       "        vertical-align: top;\n",
       "    }\n",
       "\n",
       "    .dataframe thead th {\n",
       "        text-align: right;\n",
       "    }\n",
       "</style>\n",
       "<table border=\"1\" class=\"dataframe\">\n",
       "  <thead>\n",
       "    <tr style=\"text-align: right;\">\n",
       "      <th></th>\n",
       "      <th>SP500</th>\n",
       "      <th>VIX</th>\n",
       "      <th>VXX</th>\n",
       "    </tr>\n",
       "    <tr>\n",
       "      <th>Date</th>\n",
       "      <th></th>\n",
       "      <th></th>\n",
       "      <th></th>\n",
       "    </tr>\n",
       "  </thead>\n",
       "  <tbody>\n",
       "    <tr>\n",
       "      <th>2020-12-21</th>\n",
       "      <td>3694.92</td>\n",
       "      <td>25.16</td>\n",
       "      <td>18.44</td>\n",
       "    </tr>\n",
       "    <tr>\n",
       "      <th>2020-12-22</th>\n",
       "      <td>3687.26</td>\n",
       "      <td>24.23</td>\n",
       "      <td>18.11</td>\n",
       "    </tr>\n",
       "    <tr>\n",
       "      <th>2020-12-23</th>\n",
       "      <td>3690.01</td>\n",
       "      <td>23.31</td>\n",
       "      <td>17.38</td>\n",
       "    </tr>\n",
       "    <tr>\n",
       "      <th>2020-12-24</th>\n",
       "      <td>3703.06</td>\n",
       "      <td>21.53</td>\n",
       "      <td>16.88</td>\n",
       "    </tr>\n",
       "    <tr>\n",
       "      <th>2020-12-28</th>\n",
       "      <td>3735.36</td>\n",
       "      <td>21.70</td>\n",
       "      <td>16.82</td>\n",
       "    </tr>\n",
       "  </tbody>\n",
       "</table>\n",
       "</div>"
      ],
      "text/plain": [
       "              SP500    VIX    VXX\n",
       "Date                             \n",
       "2020-12-21  3694.92  25.16  18.44\n",
       "2020-12-22  3687.26  24.23  18.11\n",
       "2020-12-23  3690.01  23.31  17.38\n",
       "2020-12-24  3703.06  21.53  16.88\n",
       "2020-12-28  3735.36  21.70  16.82"
      ]
     },
     "execution_count": 2,
     "metadata": {},
     "output_type": "execute_result"
    }
   ],
   "source": [
    "# The data is stored in the directory 'data_modules'\n",
    "path = '../data_modules/'\n",
    "# Read the csv file using read_csv method of pandas\n",
    "data = pd.read_csv(path + 'SP500_VXX_price_2017_2020_GARCH.csv', index_col=0)\n",
    "data.index = pd.to_datetime(data.index, format = \"%d-%m-%Y\")\n",
    "data.tail()"
   ]
  },
  {
   "cell_type": "markdown",
   "metadata": {
    "id": "H7QE7cnw21gy"
   },
   "source": [
    "<a id='vol'></a> \n",
    "## Calculate the annualised historical volatility\n",
    "The annualised historical volatility is calculated by taking the daily volatility of the last 14 days and then annualised."
   ]
  },
  {
   "cell_type": "code",
   "execution_count": 3,
   "metadata": {
    "colab": {
     "base_uri": "https://localhost:8080/",
     "height": 225
    },
    "id": "Rsjm6zS9tp10",
    "outputId": "b6ce452a-e470-437d-a5d7-318e146c1f53"
   },
   "outputs": [
    {
     "data": {
      "text/html": [
       "<div>\n",
       "<style scoped>\n",
       "    .dataframe tbody tr th:only-of-type {\n",
       "        vertical-align: middle;\n",
       "    }\n",
       "\n",
       "    .dataframe tbody tr th {\n",
       "        vertical-align: top;\n",
       "    }\n",
       "\n",
       "    .dataframe thead th {\n",
       "        text-align: right;\n",
       "    }\n",
       "</style>\n",
       "<table border=\"1\" class=\"dataframe\">\n",
       "  <thead>\n",
       "    <tr style=\"text-align: right;\">\n",
       "      <th></th>\n",
       "      <th>SP500</th>\n",
       "      <th>VIX</th>\n",
       "      <th>VXX</th>\n",
       "      <th>log_returns</th>\n",
       "      <th>actual_historical_volatility</th>\n",
       "    </tr>\n",
       "    <tr>\n",
       "      <th>Date</th>\n",
       "      <th></th>\n",
       "      <th></th>\n",
       "      <th></th>\n",
       "      <th></th>\n",
       "      <th></th>\n",
       "    </tr>\n",
       "  </thead>\n",
       "  <tbody>\n",
       "    <tr>\n",
       "      <th>2020-12-21</th>\n",
       "      <td>3694.92</td>\n",
       "      <td>25.16</td>\n",
       "      <td>18.44</td>\n",
       "      <td>-0.39</td>\n",
       "      <td>8.82</td>\n",
       "    </tr>\n",
       "    <tr>\n",
       "      <th>2020-12-22</th>\n",
       "      <td>3687.26</td>\n",
       "      <td>24.23</td>\n",
       "      <td>18.11</td>\n",
       "      <td>-0.21</td>\n",
       "      <td>8.88</td>\n",
       "    </tr>\n",
       "    <tr>\n",
       "      <th>2020-12-23</th>\n",
       "      <td>3690.01</td>\n",
       "      <td>23.31</td>\n",
       "      <td>17.38</td>\n",
       "      <td>0.07</td>\n",
       "      <td>8.87</td>\n",
       "    </tr>\n",
       "    <tr>\n",
       "      <th>2020-12-24</th>\n",
       "      <td>3703.06</td>\n",
       "      <td>21.53</td>\n",
       "      <td>16.88</td>\n",
       "      <td>0.35</td>\n",
       "      <td>8.16</td>\n",
       "    </tr>\n",
       "    <tr>\n",
       "      <th>2020-12-28</th>\n",
       "      <td>3735.36</td>\n",
       "      <td>21.70</td>\n",
       "      <td>16.82</td>\n",
       "      <td>0.87</td>\n",
       "      <td>8.86</td>\n",
       "    </tr>\n",
       "  </tbody>\n",
       "</table>\n",
       "</div>"
      ],
      "text/plain": [
       "              SP500    VIX    VXX  log_returns  actual_historical_volatility\n",
       "Date                                                                        \n",
       "2020-12-21  3694.92  25.16  18.44        -0.39                          8.82\n",
       "2020-12-22  3687.26  24.23  18.11        -0.21                          8.88\n",
       "2020-12-23  3690.01  23.31  17.38         0.07                          8.87\n",
       "2020-12-24  3703.06  21.53  16.88         0.35                          8.16\n",
       "2020-12-28  3735.36  21.70  16.82         0.87                          8.86"
      ]
     },
     "execution_count": 3,
     "metadata": {},
     "output_type": "execute_result"
    }
   ],
   "source": [
    "data['log_returns'] = np.log(data['SP500'].pct_change() + 1)*100\n",
    "\n",
    "# Annualised volatilty\n",
    "data['actual_historical_volatility'] = data['log_returns'].rolling(14).std() * ((252)**0.5)\n",
    "\n",
    "# Print the last 5 rows\n",
    "data.round(2).tail()"
   ]
  },
  {
   "cell_type": "markdown",
   "metadata": {
    "id": "kQuA4oXetp10"
   },
   "source": [
    "<a id='garch'></a> \n",
    "## GARCH volatility forecasting\n",
    "\n",
    "As you have learnt in the previous notebook, the model is fit to obtain the GARCH predicted volatility.\n",
    "\n",
    "<i>  <span style=\"color:#FFFF00; background:#00C000\"> <b> Running the below cell will take some time. Please be patient. You can also download this notebook from the last section of this course and run it on your local system.</i>"
   ]
  },
  {
   "cell_type": "code",
   "execution_count": 4,
   "metadata": {
    "colab": {
     "base_uri": "https://localhost:8080/",
     "height": 225
    },
    "id": "SLQ3IhMttp11",
    "outputId": "52953a6b-0357-47e4-ec10-56f8297d1877"
   },
   "outputs": [],
   "source": [
    "# Function to predict the volatility of 1 day\n",
    "def predict_volatility(hist_returns_data):\n",
    "    # define model\n",
    "    gm = arch_model(hist_returns_data, vol='GARCH', p=1, q=1, dist='skewt')\n",
    "\n",
    "    # fit the model\n",
    "    gm_fit = gm.fit(disp='off')\n",
    "\n",
    "    # make forecast\n",
    "    forecasted_variance = gm_fit.forecast(horizon=1).variance.values[-1]\n",
    "    return (forecasted_variance**0.5) * (252**0.5)\n",
    "\n",
    "data['GARCH_predicted_volatility'] = data['log_returns'].rolling(252).apply(\n",
    "    predict_volatility, raw=True)"
   ]
  },
  {
   "cell_type": "markdown",
   "metadata": {
    "id": "q9MbYzAHtp12"
   },
   "source": [
    "<a id='trade'></a> \n",
    "## Generate the trading signals for the strategy\n",
    "\n",
    "VXX ETN is bought if the predicted volatility is greater than the historical volatility, and vice versa.\n",
    "\n",
    "$$\\text{Buy VXX if } \\quad GARCH\\_predicted\\_volatility > actual\\_historical\\_volatility \\;  \\text{at the current time}$$ \n",
    "\n",
    "$$\\text{Sell VXX if } \\quad GARCH\\_predicted\\_volatility < \\text{current } actual\\_historical\\_volatility \\; \\text{at the current time}$$\n",
    "\n",
    "![Strategy Logic](https://d2a032ejo53cab.cloudfront.net/Glossary/eTyG2hmj/GARCHNB.jpg)"
   ]
  },
  {
   "cell_type": "code",
   "execution_count": 5,
   "metadata": {
    "colab": {
     "base_uri": "https://localhost:8080/",
     "height": 195
    },
    "id": "gVMEwNqotp12",
    "outputId": "1fad8b8e-8fb7-4cbf-ec71-e21ec174e282"
   },
   "outputs": [],
   "source": [
    "data['signal'] = np.where(data['GARCH_predicted_volatility'] > data['actual_historical_volatility'], 1, -1)\n",
    "data['strategy_returns'] = data['VXX'].pct_change() * data.signal.shift(1) \n",
    "data.dropna(inplace=True)"
   ]
  },
  {
   "cell_type": "markdown",
   "metadata": {},
   "source": [
    "<a id='graph'></a> \n",
    "## Analyse the strategy performance\n",
    "The strategy performance is analysed using the `analyse_strategy` function from the `tsa_functions_quantra` file."
   ]
  },
  {
   "cell_type": "code",
   "execution_count": 6,
   "metadata": {},
   "outputs": [
    {
     "name": "stdout",
     "output_type": "stream",
     "text": [
      "The Sharpe Ratio is 1.24\n",
      "The cumulative return is 303.65%\n",
      "The maximum drawdown is -48.80%\n"
     ]
    },
    {
     "data": {
      "image/png": "[encoded data removed]",
      "text/plain": [
       "<Figure size 720x504 with 2 Axes>"
      ]
     },
     "metadata": {
      "needs_background": "light"
     },
     "output_type": "display_data"
    }
   ],
   "source": [
    "analyse_strategy(data['strategy_returns'])"
   ]
  },
  {
   "cell_type": "markdown",
   "metadata": {
    "id": "ewBY5HJH21g1"
   },
   "source": [
    "The GARCH strategy implemented here has large drawdowns because the VXX returns are tagged to the VIX Futures returns. The VIX Futures inherently are very volatile and so large drawdowns are seen.\n",
    "\n",
    "## Tweak the code\n",
    "You can tweak the code in the following ways:\n",
    "\n",
    "1. Use different asset other than VXX and see how the strategy performs\n",
    "1. Use a different order of the GARCH model (p,q). The optimal lag order can be chosen by taking the order of the PACF plot of the squared returns\n",
    "1. Use a different lookback for the volatility calculation and the GARCH model fitting\n",
    "\n",
    "In the next section, you will learn about the limitations of time series modelling.\n",
    "<br><br>"
   ]
  }
 ],
 "metadata": {
  "colab": {
   "collapsed_sections": [],
   "name": "GARCH Model Implementation and Strategy.ipynb",
   "provenance": []
  },
  "kernelspec": {
   "display_name": "Python 3",
   "language": "python",
   "name": "python3"
  },
  "language_info": {
   "codemirror_mode": {
    "name": "ipython",
    "version": 3
   },
   "file_extension": ".py",
   "mimetype": "text/x-python",
   "name": "python",
   "nbconvert_exporter": "python",
   "pygments_lexer": "ipython3",
   "version": "3.7.4"
  }
 },
 "nbformat": 4,
 "nbformat_minor": 1
}
