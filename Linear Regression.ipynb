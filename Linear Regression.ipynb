{
 "cells": [
  {
   "cell_type": "code",
   "execution_count": 1,
   "id": "0695b36d",
   "metadata": {},
   "outputs": [],
   "source": [
    "import pandas as pd\n",
    "import matplotlib.pyplot as plt"
   ]
  },
  {
   "cell_type": "code",
   "execution_count": 2,
   "id": "211fcb71",
   "metadata": {},
   "outputs": [],
   "source": [
    "df=pd.read_csv('reliance_5minx.csv',index_col=[0])"
   ]
  },
  {
   "cell_type": "code",
   "execution_count": 3,
   "id": "8380116d",
   "metadata": {},
   "outputs": [],
   "source": [
    "df.drop(['MACDsig','MACD','STX','EMA12','EMA26','SMA14','Volume'],axis=1,inplace=True)"
   ]
  },
  {
   "cell_type": "code",
   "execution_count": 4,
   "id": "73248d9b",
   "metadata": {},
   "outputs": [
    {
     "data": {
      "text/plain": [
       "Index(['Time', 'Open', 'High', 'Low', 'Close', 'ST', 'SMA', 'EMA', 'RSI',\n",
       "       'MACtab', 'MACsig', 'Pivot', 'R1', 'S1', 'R2', 'S2', 'R3', 'S3', 'R4',\n",
       "       'S4'],\n",
       "      dtype='object')"
      ]
     },
     "execution_count": 4,
     "metadata": {},
     "output_type": "execute_result"
    }
   ],
   "source": [
    "df.columns"
   ]
  },
  {
   "cell_type": "code",
   "execution_count": 5,
   "id": "3d3db2d3",
   "metadata": {},
   "outputs": [
    {
     "data": {
      "text/html": [
       "<div>\n",
       "<style scoped>\n",
       "    .dataframe tbody tr th:only-of-type {\n",
       "        vertical-align: middle;\n",
       "    }\n",
       "\n",
       "    .dataframe tbody tr th {\n",
       "        vertical-align: top;\n",
       "    }\n",
       "\n",
       "    .dataframe thead th {\n",
       "        text-align: right;\n",
       "    }\n",
       "</style>\n",
       "<table border=\"1\" class=\"dataframe\">\n",
       "  <thead>\n",
       "    <tr style=\"text-align: right;\">\n",
       "      <th></th>\n",
       "      <th>Open</th>\n",
       "      <th>High</th>\n",
       "      <th>Low</th>\n",
       "      <th>Close</th>\n",
       "      <th>ST</th>\n",
       "      <th>SMA</th>\n",
       "      <th>EMA</th>\n",
       "      <th>RSI</th>\n",
       "      <th>MACtab</th>\n",
       "      <th>MACsig</th>\n",
       "      <th>Pivot</th>\n",
       "      <th>R1</th>\n",
       "      <th>S1</th>\n",
       "      <th>R2</th>\n",
       "      <th>S2</th>\n",
       "      <th>R3</th>\n",
       "      <th>S3</th>\n",
       "      <th>R4</th>\n",
       "      <th>S4</th>\n",
       "    </tr>\n",
       "  </thead>\n",
       "  <tbody>\n",
       "    <tr>\n",
       "      <th>count</th>\n",
       "      <td>5100.000000</td>\n",
       "      <td>5100.000000</td>\n",
       "      <td>5100.000000</td>\n",
       "      <td>5100.000000</td>\n",
       "      <td>5100.000000</td>\n",
       "      <td>5100.000000</td>\n",
       "      <td>5100.000000</td>\n",
       "      <td>5100.000000</td>\n",
       "      <td>5100.000000</td>\n",
       "      <td>5100.000000</td>\n",
       "      <td>5100.000000</td>\n",
       "      <td>5100.000000</td>\n",
       "      <td>5100.000000</td>\n",
       "      <td>5100.000000</td>\n",
       "      <td>5100.000000</td>\n",
       "      <td>5100.000000</td>\n",
       "      <td>5100.000000</td>\n",
       "      <td>5100.000000</td>\n",
       "      <td>5100.000000</td>\n",
       "    </tr>\n",
       "    <tr>\n",
       "      <th>mean</th>\n",
       "      <td>2559.193716</td>\n",
       "      <td>2561.967167</td>\n",
       "      <td>2556.304157</td>\n",
       "      <td>2559.160314</td>\n",
       "      <td>2555.486410</td>\n",
       "      <td>2554.078263</td>\n",
       "      <td>2559.206097</td>\n",
       "      <td>50.292420</td>\n",
       "      <td>-0.082194</td>\n",
       "      <td>-0.075532</td>\n",
       "      <td>2559.143879</td>\n",
       "      <td>2561.983601</td>\n",
       "      <td>2556.320592</td>\n",
       "      <td>2564.806889</td>\n",
       "      <td>2553.480869</td>\n",
       "      <td>2567.646611</td>\n",
       "      <td>2550.657582</td>\n",
       "      <td>2570.469899</td>\n",
       "      <td>2547.817859</td>\n",
       "    </tr>\n",
       "    <tr>\n",
       "      <th>std</th>\n",
       "      <td>108.157295</td>\n",
       "      <td>108.249221</td>\n",
       "      <td>108.060663</td>\n",
       "      <td>108.199459</td>\n",
       "      <td>143.839325</td>\n",
       "      <td>156.473308</td>\n",
       "      <td>107.845896</td>\n",
       "      <td>12.623733</td>\n",
       "      <td>5.348428</td>\n",
       "      <td>5.049292</td>\n",
       "      <td>108.151255</td>\n",
       "      <td>108.286167</td>\n",
       "      <td>108.098829</td>\n",
       "      <td>108.418301</td>\n",
       "      <td>108.042602</td>\n",
       "      <td>108.631372</td>\n",
       "      <td>108.070180</td>\n",
       "      <td>108.842573</td>\n",
       "      <td>108.092820</td>\n",
       "    </tr>\n",
       "    <tr>\n",
       "      <th>min</th>\n",
       "      <td>2371.950000</td>\n",
       "      <td>2376.400000</td>\n",
       "      <td>2365.100000</td>\n",
       "      <td>2371.950000</td>\n",
       "      <td>0.000000</td>\n",
       "      <td>0.000000</td>\n",
       "      <td>2380.279428</td>\n",
       "      <td>0.000000</td>\n",
       "      <td>-47.182051</td>\n",
       "      <td>-37.998248</td>\n",
       "      <td>2374.350000</td>\n",
       "      <td>2377.900000</td>\n",
       "      <td>2362.633333</td>\n",
       "      <td>2379.366667</td>\n",
       "      <td>2341.066667</td>\n",
       "      <td>2380.783333</td>\n",
       "      <td>2311.733333</td>\n",
       "      <td>2382.216667</td>\n",
       "      <td>2289.716667</td>\n",
       "    </tr>\n",
       "    <tr>\n",
       "      <th>25%</th>\n",
       "      <td>2463.812500</td>\n",
       "      <td>2467.712500</td>\n",
       "      <td>2459.962500</td>\n",
       "      <td>2462.925000</td>\n",
       "      <td>2462.950870</td>\n",
       "      <td>2460.847500</td>\n",
       "      <td>2466.035809</td>\n",
       "      <td>42.508919</td>\n",
       "      <td>-2.408240</td>\n",
       "      <td>-2.419177</td>\n",
       "      <td>2462.525000</td>\n",
       "      <td>2466.245833</td>\n",
       "      <td>2460.391667</td>\n",
       "      <td>2471.616667</td>\n",
       "      <td>2457.004167</td>\n",
       "      <td>2476.295833</td>\n",
       "      <td>2453.916667</td>\n",
       "      <td>2479.225000</td>\n",
       "      <td>2450.795833</td>\n",
       "    </tr>\n",
       "    <tr>\n",
       "      <th>50%</th>\n",
       "      <td>2572.000000</td>\n",
       "      <td>2574.525000</td>\n",
       "      <td>2568.675000</td>\n",
       "      <td>2571.975000</td>\n",
       "      <td>2571.379044</td>\n",
       "      <td>2571.737500</td>\n",
       "      <td>2571.776024</td>\n",
       "      <td>50.574479</td>\n",
       "      <td>0.248187</td>\n",
       "      <td>0.240357</td>\n",
       "      <td>2571.866667</td>\n",
       "      <td>2574.358333</td>\n",
       "      <td>2569.058333</td>\n",
       "      <td>2576.633333</td>\n",
       "      <td>2566.008333</td>\n",
       "      <td>2579.308333</td>\n",
       "      <td>2563.500000</td>\n",
       "      <td>2582.041667</td>\n",
       "      <td>2560.766667</td>\n",
       "    </tr>\n",
       "    <tr>\n",
       "      <th>75%</th>\n",
       "      <td>2633.062500</td>\n",
       "      <td>2636.312500</td>\n",
       "      <td>2630.000000</td>\n",
       "      <td>2633.075000</td>\n",
       "      <td>2633.224876</td>\n",
       "      <td>2633.651250</td>\n",
       "      <td>2634.428227</td>\n",
       "      <td>58.536168</td>\n",
       "      <td>2.590884</td>\n",
       "      <td>2.481419</td>\n",
       "      <td>2633.200000</td>\n",
       "      <td>2636.316667</td>\n",
       "      <td>2630.187500</td>\n",
       "      <td>2638.966667</td>\n",
       "      <td>2626.762500</td>\n",
       "      <td>2642.475000</td>\n",
       "      <td>2624.433333</td>\n",
       "      <td>2645.470833</td>\n",
       "      <td>2621.137500</td>\n",
       "    </tr>\n",
       "    <tr>\n",
       "      <th>max</th>\n",
       "      <td>2814.050000</td>\n",
       "      <td>2817.000000</td>\n",
       "      <td>2810.250000</td>\n",
       "      <td>2814.050000</td>\n",
       "      <td>2813.402967</td>\n",
       "      <td>2808.060000</td>\n",
       "      <td>2807.040242</td>\n",
       "      <td>89.248503</td>\n",
       "      <td>21.771027</td>\n",
       "      <td>19.659507</td>\n",
       "      <td>2812.466667</td>\n",
       "      <td>2822.066667</td>\n",
       "      <td>2810.500000</td>\n",
       "      <td>2833.933333</td>\n",
       "      <td>2809.000000</td>\n",
       "      <td>2854.966667</td>\n",
       "      <td>2807.750000</td>\n",
       "      <td>2866.833333</td>\n",
       "      <td>2806.250000</td>\n",
       "    </tr>\n",
       "  </tbody>\n",
       "</table>\n",
       "</div>"
      ],
      "text/plain": [
       "              Open         High          Low        Close           ST  \\\n",
       "count  5100.000000  5100.000000  5100.000000  5100.000000  5100.000000   \n",
       "mean   2559.193716  2561.967167  2556.304157  2559.160314  2555.486410   \n",
       "std     108.157295   108.249221   108.060663   108.199459   143.839325   \n",
       "min    2371.950000  2376.400000  2365.100000  2371.950000     0.000000   \n",
       "25%    2463.812500  2467.712500  2459.962500  2462.925000  2462.950870   \n",
       "50%    2572.000000  2574.525000  2568.675000  2571.975000  2571.379044   \n",
       "75%    2633.062500  2636.312500  2630.000000  2633.075000  2633.224876   \n",
       "max    2814.050000  2817.000000  2810.250000  2814.050000  2813.402967   \n",
       "\n",
       "               SMA          EMA          RSI       MACtab       MACsig  \\\n",
       "count  5100.000000  5100.000000  5100.000000  5100.000000  5100.000000   \n",
       "mean   2554.078263  2559.206097    50.292420    -0.082194    -0.075532   \n",
       "std     156.473308   107.845896    12.623733     5.348428     5.049292   \n",
       "min       0.000000  2380.279428     0.000000   -47.182051   -37.998248   \n",
       "25%    2460.847500  2466.035809    42.508919    -2.408240    -2.419177   \n",
       "50%    2571.737500  2571.776024    50.574479     0.248187     0.240357   \n",
       "75%    2633.651250  2634.428227    58.536168     2.590884     2.481419   \n",
       "max    2808.060000  2807.040242    89.248503    21.771027    19.659507   \n",
       "\n",
       "             Pivot           R1           S1           R2           S2  \\\n",
       "count  5100.000000  5100.000000  5100.000000  5100.000000  5100.000000   \n",
       "mean   2559.143879  2561.983601  2556.320592  2564.806889  2553.480869   \n",
       "std     108.151255   108.286167   108.098829   108.418301   108.042602   \n",
       "min    2374.350000  2377.900000  2362.633333  2379.366667  2341.066667   \n",
       "25%    2462.525000  2466.245833  2460.391667  2471.616667  2457.004167   \n",
       "50%    2571.866667  2574.358333  2569.058333  2576.633333  2566.008333   \n",
       "75%    2633.200000  2636.316667  2630.187500  2638.966667  2626.762500   \n",
       "max    2812.466667  2822.066667  2810.500000  2833.933333  2809.000000   \n",
       "\n",
       "                R3           S3           R4           S4  \n",
       "count  5100.000000  5100.000000  5100.000000  5100.000000  \n",
       "mean   2567.646611  2550.657582  2570.469899  2547.817859  \n",
       "std     108.631372   108.070180   108.842573   108.092820  \n",
       "min    2380.783333  2311.733333  2382.216667  2289.716667  \n",
       "25%    2476.295833  2453.916667  2479.225000  2450.795833  \n",
       "50%    2579.308333  2563.500000  2582.041667  2560.766667  \n",
       "75%    2642.475000  2624.433333  2645.470833  2621.137500  \n",
       "max    2854.966667  2807.750000  2866.833333  2806.250000  "
      ]
     },
     "execution_count": 5,
     "metadata": {},
     "output_type": "execute_result"
    }
   ],
   "source": [
    "df.describe()"
   ]
  },
  {
   "cell_type": "code",
   "execution_count": 6,
   "id": "35271556",
   "metadata": {},
   "outputs": [
    {
     "data": {
      "text/plain": [
       "Time      0\n",
       "Open      0\n",
       "High      0\n",
       "Low       0\n",
       "Close     0\n",
       "ST        0\n",
       "SMA       0\n",
       "EMA       0\n",
       "RSI       0\n",
       "MACtab    0\n",
       "MACsig    0\n",
       "Pivot     0\n",
       "R1        0\n",
       "S1        0\n",
       "R2        0\n",
       "S2        0\n",
       "R3        0\n",
       "S3        0\n",
       "R4        0\n",
       "S4        0\n",
       "dtype: int64"
      ]
     },
     "execution_count": 6,
     "metadata": {},
     "output_type": "execute_result"
    }
   ],
   "source": [
    "df.isnull().sum()"
   ]
  },
  {
   "cell_type": "code",
   "execution_count": 7,
   "id": "cf68f746",
   "metadata": {},
   "outputs": [
    {
     "data": {
      "text/plain": [
       "Index(['Time', 'Open', 'High', 'Low', 'Close', 'ST', 'SMA', 'EMA', 'RSI',\n",
       "       'MACtab', 'MACsig', 'Pivot', 'R1', 'S1', 'R2', 'S2', 'R3', 'S3', 'R4',\n",
       "       'S4'],\n",
       "      dtype='object')"
      ]
     },
     "execution_count": 7,
     "metadata": {},
     "output_type": "execute_result"
    }
   ],
   "source": [
    "df.columns"
   ]
  },
  {
   "cell_type": "code",
   "execution_count": 8,
   "id": "b2029762",
   "metadata": {},
   "outputs": [],
   "source": [
    "dft=df[['Time', 'Open', 'High', 'Low', 'Close', 'ST', 'SMA', 'EMA', 'RSI',\n",
    "       'MACtab', 'MACsig']]"
   ]
  },
  {
   "cell_type": "code",
   "execution_count": 9,
   "id": "a3cf2cd4",
   "metadata": {},
   "outputs": [
    {
     "data": {
      "text/html": [
       "<div>\n",
       "<style scoped>\n",
       "    .dataframe tbody tr th:only-of-type {\n",
       "        vertical-align: middle;\n",
       "    }\n",
       "\n",
       "    .dataframe tbody tr th {\n",
       "        vertical-align: top;\n",
       "    }\n",
       "\n",
       "    .dataframe thead th {\n",
       "        text-align: right;\n",
       "    }\n",
       "</style>\n",
       "<table border=\"1\" class=\"dataframe\">\n",
       "  <thead>\n",
       "    <tr style=\"text-align: right;\">\n",
       "      <th></th>\n",
       "      <th>Open</th>\n",
       "      <th>High</th>\n",
       "      <th>Low</th>\n",
       "      <th>Close</th>\n",
       "      <th>ST</th>\n",
       "      <th>SMA</th>\n",
       "      <th>EMA</th>\n",
       "      <th>RSI</th>\n",
       "      <th>MACtab</th>\n",
       "      <th>MACsig</th>\n",
       "    </tr>\n",
       "    <tr>\n",
       "      <th>Time</th>\n",
       "      <th></th>\n",
       "      <th></th>\n",
       "      <th></th>\n",
       "      <th></th>\n",
       "      <th></th>\n",
       "      <th></th>\n",
       "      <th></th>\n",
       "      <th></th>\n",
       "      <th></th>\n",
       "      <th></th>\n",
       "    </tr>\n",
       "  </thead>\n",
       "  <tbody>\n",
       "    <tr>\n",
       "      <th>2022-05-30 12:00:00</th>\n",
       "      <td>2642.85</td>\n",
       "      <td>2644.85</td>\n",
       "      <td>2642.15</td>\n",
       "      <td>2644.55</td>\n",
       "      <td>2649.199439</td>\n",
       "      <td>2648.125</td>\n",
       "      <td>2643.811132</td>\n",
       "      <td>59.043996</td>\n",
       "      <td>6.968465</td>\n",
       "      <td>8.573152</td>\n",
       "    </tr>\n",
       "    <tr>\n",
       "      <th>2022-05-30 12:05:00</th>\n",
       "      <td>2644.80</td>\n",
       "      <td>2644.85</td>\n",
       "      <td>2640.10</td>\n",
       "      <td>2643.05</td>\n",
       "      <td>2648.038805</td>\n",
       "      <td>2647.480</td>\n",
       "      <td>2643.709648</td>\n",
       "      <td>57.335232</td>\n",
       "      <td>6.361663</td>\n",
       "      <td>8.130854</td>\n",
       "    </tr>\n",
       "    <tr>\n",
       "      <th>2022-05-30 12:10:00</th>\n",
       "      <td>2643.10</td>\n",
       "      <td>2648.55</td>\n",
       "      <td>2643.10</td>\n",
       "      <td>2644.50</td>\n",
       "      <td>2648.038805</td>\n",
       "      <td>2646.985</td>\n",
       "      <td>2643.815028</td>\n",
       "      <td>58.583035</td>\n",
       "      <td>5.929420</td>\n",
       "      <td>7.690568</td>\n",
       "    </tr>\n",
       "    <tr>\n",
       "      <th>2022-05-30 12:15:00</th>\n",
       "      <td>2644.50</td>\n",
       "      <td>2644.50</td>\n",
       "      <td>2640.00</td>\n",
       "      <td>2642.50</td>\n",
       "      <td>2647.654020</td>\n",
       "      <td>2646.810</td>\n",
       "      <td>2643.639691</td>\n",
       "      <td>56.143953</td>\n",
       "      <td>5.363653</td>\n",
       "      <td>7.225185</td>\n",
       "    </tr>\n",
       "    <tr>\n",
       "      <th>2022-05-30 12:20:00</th>\n",
       "      <td>2642.50</td>\n",
       "      <td>2648.00</td>\n",
       "      <td>2640.40</td>\n",
       "      <td>2647.80</td>\n",
       "      <td>2640.270310</td>\n",
       "      <td>2645.780</td>\n",
       "      <td>2644.194399</td>\n",
       "      <td>60.801475</td>\n",
       "      <td>5.282055</td>\n",
       "      <td>6.836559</td>\n",
       "    </tr>\n",
       "    <tr>\n",
       "      <th>...</th>\n",
       "      <td>...</td>\n",
       "      <td>...</td>\n",
       "      <td>...</td>\n",
       "      <td>...</td>\n",
       "      <td>...</td>\n",
       "      <td>...</td>\n",
       "      <td>...</td>\n",
       "      <td>...</td>\n",
       "      <td>...</td>\n",
       "      <td>...</td>\n",
       "    </tr>\n",
       "    <tr>\n",
       "      <th>2022-09-05 15:05:00</th>\n",
       "      <td>2573.90</td>\n",
       "      <td>2575.00</td>\n",
       "      <td>2569.05</td>\n",
       "      <td>2571.00</td>\n",
       "      <td>2567.502941</td>\n",
       "      <td>2572.610</td>\n",
       "      <td>2571.886843</td>\n",
       "      <td>49.717466</td>\n",
       "      <td>0.587919</td>\n",
       "      <td>1.138776</td>\n",
       "    </tr>\n",
       "    <tr>\n",
       "      <th>2022-09-05 15:10:00</th>\n",
       "      <td>2571.10</td>\n",
       "      <td>2573.85</td>\n",
       "      <td>2570.15</td>\n",
       "      <td>2571.00</td>\n",
       "      <td>2567.595378</td>\n",
       "      <td>2572.110</td>\n",
       "      <td>2571.768598</td>\n",
       "      <td>49.717466</td>\n",
       "      <td>0.476199</td>\n",
       "      <td>1.006260</td>\n",
       "    </tr>\n",
       "    <tr>\n",
       "      <th>2022-09-05 15:15:00</th>\n",
       "      <td>2571.00</td>\n",
       "      <td>2571.65</td>\n",
       "      <td>2566.95</td>\n",
       "      <td>2570.00</td>\n",
       "      <td>2567.595378</td>\n",
       "      <td>2572.010</td>\n",
       "      <td>2571.532785</td>\n",
       "      <td>47.941474</td>\n",
       "      <td>0.303470</td>\n",
       "      <td>0.865702</td>\n",
       "    </tr>\n",
       "    <tr>\n",
       "      <th>2022-09-05 15:20:00</th>\n",
       "      <td>2570.00</td>\n",
       "      <td>2571.00</td>\n",
       "      <td>2566.90</td>\n",
       "      <td>2567.40</td>\n",
       "      <td>2573.347273</td>\n",
       "      <td>2571.510</td>\n",
       "      <td>2570.981747</td>\n",
       "      <td>43.582336</td>\n",
       "      <td>-0.042724</td>\n",
       "      <td>0.684017</td>\n",
       "    </tr>\n",
       "    <tr>\n",
       "      <th>2022-09-05 15:25:00</th>\n",
       "      <td>2567.40</td>\n",
       "      <td>2569.40</td>\n",
       "      <td>2566.90</td>\n",
       "      <td>2567.20</td>\n",
       "      <td>2572.276234</td>\n",
       "      <td>2570.790</td>\n",
       "      <td>2570.477514</td>\n",
       "      <td>43.256513</td>\n",
       "      <td>-0.329427</td>\n",
       "      <td>0.481328</td>\n",
       "    </tr>\n",
       "  </tbody>\n",
       "</table>\n",
       "<p>5067 rows × 10 columns</p>\n",
       "</div>"
      ],
      "text/plain": [
       "                        Open     High      Low    Close           ST  \\\n",
       "Time                                                                   \n",
       "2022-05-30 12:00:00  2642.85  2644.85  2642.15  2644.55  2649.199439   \n",
       "2022-05-30 12:05:00  2644.80  2644.85  2640.10  2643.05  2648.038805   \n",
       "2022-05-30 12:10:00  2643.10  2648.55  2643.10  2644.50  2648.038805   \n",
       "2022-05-30 12:15:00  2644.50  2644.50  2640.00  2642.50  2647.654020   \n",
       "2022-05-30 12:20:00  2642.50  2648.00  2640.40  2647.80  2640.270310   \n",
       "...                      ...      ...      ...      ...          ...   \n",
       "2022-09-05 15:05:00  2573.90  2575.00  2569.05  2571.00  2567.502941   \n",
       "2022-09-05 15:10:00  2571.10  2573.85  2570.15  2571.00  2567.595378   \n",
       "2022-09-05 15:15:00  2571.00  2571.65  2566.95  2570.00  2567.595378   \n",
       "2022-09-05 15:20:00  2570.00  2571.00  2566.90  2567.40  2573.347273   \n",
       "2022-09-05 15:25:00  2567.40  2569.40  2566.90  2567.20  2572.276234   \n",
       "\n",
       "                          SMA          EMA        RSI    MACtab    MACsig  \n",
       "Time                                                                       \n",
       "2022-05-30 12:00:00  2648.125  2643.811132  59.043996  6.968465  8.573152  \n",
       "2022-05-30 12:05:00  2647.480  2643.709648  57.335232  6.361663  8.130854  \n",
       "2022-05-30 12:10:00  2646.985  2643.815028  58.583035  5.929420  7.690568  \n",
       "2022-05-30 12:15:00  2646.810  2643.639691  56.143953  5.363653  7.225185  \n",
       "2022-05-30 12:20:00  2645.780  2644.194399  60.801475  5.282055  6.836559  \n",
       "...                       ...          ...        ...       ...       ...  \n",
       "2022-09-05 15:05:00  2572.610  2571.886843  49.717466  0.587919  1.138776  \n",
       "2022-09-05 15:10:00  2572.110  2571.768598  49.717466  0.476199  1.006260  \n",
       "2022-09-05 15:15:00  2572.010  2571.532785  47.941474  0.303470  0.865702  \n",
       "2022-09-05 15:20:00  2571.510  2570.981747  43.582336 -0.042724  0.684017  \n",
       "2022-09-05 15:25:00  2570.790  2570.477514  43.256513 -0.329427  0.481328  \n",
       "\n",
       "[5067 rows x 10 columns]"
      ]
     },
     "execution_count": 9,
     "metadata": {},
     "output_type": "execute_result"
    }
   ],
   "source": [
    "dft=dft[33:]\n",
    "dft.set_index('Time')"
   ]
  },
  {
   "cell_type": "code",
   "execution_count": 10,
   "id": "32ac26a2",
   "metadata": {},
   "outputs": [],
   "source": [
    "#Feature Selection"
   ]
  },
  {
   "cell_type": "code",
   "execution_count": 11,
   "id": "2accc331",
   "metadata": {},
   "outputs": [],
   "source": [
    "X=dft[['ST','SMA','EMA','RSI','MACtab','MACsig']]\n",
    "Y=dft[['Close']]"
   ]
  },
  {
   "cell_type": "code",
   "execution_count": 12,
   "id": "42c51781",
   "metadata": {},
   "outputs": [],
   "source": [
    "from sklearn.model_selection import train_test_split\n",
    "X_train,X_test,y_train,y_test=train_test_split(X,Y,test_size=0.3,random_state=0)"
   ]
  },
  {
   "cell_type": "code",
   "execution_count": 13,
   "id": "19a2226d",
   "metadata": {},
   "outputs": [
    {
     "data": {
      "text/plain": [
       "VarianceThreshold(threshold=0)"
      ]
     },
     "execution_count": 13,
     "metadata": {},
     "output_type": "execute_result"
    }
   ],
   "source": [
    "#Variance Threshold --> Remove low variance features.\n",
    "from sklearn.feature_selection import VarianceThreshold\n",
    "var_thres=VarianceThreshold(threshold=0)\n",
    "var_thres.fit(X_train)"
   ]
  },
  {
   "cell_type": "code",
   "execution_count": 14,
   "id": "465aa192",
   "metadata": {},
   "outputs": [
    {
     "data": {
      "text/plain": [
       "array([ True,  True,  True,  True,  True,  True])"
      ]
     },
     "execution_count": 14,
     "metadata": {},
     "output_type": "execute_result"
    }
   ],
   "source": [
    "var_thres.get_support()"
   ]
  },
  {
   "cell_type": "code",
   "execution_count": 15,
   "id": "39f7e222",
   "metadata": {},
   "outputs": [
    {
     "data": {
      "image/png": "[encoded data removed]",
      "text/plain": [
       "<Figure size 864x720 with 2 Axes>"
      ]
     },
     "metadata": {
      "needs_background": "light"
     },
     "output_type": "display_data"
    }
   ],
   "source": [
    "#Finding highly correlated among independent variables \n",
    "import seaborn as sns\n",
    "plt.figure(figsize=(12,10))\n",
    "cor = X_train.corr()\n",
    "sns.heatmap(cor, annot=True, cmap=plt.cm.CMRmap_r)\n",
    "plt.show()"
   ]
  },
  {
   "cell_type": "code",
   "execution_count": 16,
   "id": "4f79000d",
   "metadata": {},
   "outputs": [
    {
     "data": {
      "text/html": [
       "<div>\n",
       "<style scoped>\n",
       "    .dataframe tbody tr th:only-of-type {\n",
       "        vertical-align: middle;\n",
       "    }\n",
       "\n",
       "    .dataframe tbody tr th {\n",
       "        vertical-align: top;\n",
       "    }\n",
       "\n",
       "    .dataframe thead th {\n",
       "        text-align: right;\n",
       "    }\n",
       "</style>\n",
       "<table border=\"1\" class=\"dataframe\">\n",
       "  <thead>\n",
       "    <tr style=\"text-align: right;\">\n",
       "      <th></th>\n",
       "      <th>ST</th>\n",
       "      <th>SMA</th>\n",
       "      <th>EMA</th>\n",
       "      <th>RSI</th>\n",
       "      <th>MACtab</th>\n",
       "      <th>MACsig</th>\n",
       "    </tr>\n",
       "  </thead>\n",
       "  <tbody>\n",
       "    <tr>\n",
       "      <th>ST</th>\n",
       "      <td>1.000000</td>\n",
       "      <td>0.997898</td>\n",
       "      <td>0.998182</td>\n",
       "      <td>0.033104</td>\n",
       "      <td>0.117441</td>\n",
       "      <td>0.136640</td>\n",
       "    </tr>\n",
       "    <tr>\n",
       "      <th>SMA</th>\n",
       "      <td>0.997898</td>\n",
       "      <td>1.000000</td>\n",
       "      <td>0.999709</td>\n",
       "      <td>0.002392</td>\n",
       "      <td>0.085669</td>\n",
       "      <td>0.117146</td>\n",
       "    </tr>\n",
       "    <tr>\n",
       "      <th>EMA</th>\n",
       "      <td>0.998182</td>\n",
       "      <td>0.999709</td>\n",
       "      <td>1.000000</td>\n",
       "      <td>0.003164</td>\n",
       "      <td>0.077377</td>\n",
       "      <td>0.104946</td>\n",
       "    </tr>\n",
       "    <tr>\n",
       "      <th>RSI</th>\n",
       "      <td>0.033104</td>\n",
       "      <td>0.002392</td>\n",
       "      <td>0.003164</td>\n",
       "      <td>1.000000</td>\n",
       "      <td>0.775835</td>\n",
       "      <td>0.659336</td>\n",
       "    </tr>\n",
       "    <tr>\n",
       "      <th>MACtab</th>\n",
       "      <td>0.117441</td>\n",
       "      <td>0.085669</td>\n",
       "      <td>0.077377</td>\n",
       "      <td>0.775835</td>\n",
       "      <td>1.000000</td>\n",
       "      <td>0.953490</td>\n",
       "    </tr>\n",
       "    <tr>\n",
       "      <th>MACsig</th>\n",
       "      <td>0.136640</td>\n",
       "      <td>0.117146</td>\n",
       "      <td>0.104946</td>\n",
       "      <td>0.659336</td>\n",
       "      <td>0.953490</td>\n",
       "      <td>1.000000</td>\n",
       "    </tr>\n",
       "  </tbody>\n",
       "</table>\n",
       "</div>"
      ],
      "text/plain": [
       "              ST       SMA       EMA       RSI    MACtab    MACsig\n",
       "ST      1.000000  0.997898  0.998182  0.033104  0.117441  0.136640\n",
       "SMA     0.997898  1.000000  0.999709  0.002392  0.085669  0.117146\n",
       "EMA     0.998182  0.999709  1.000000  0.003164  0.077377  0.104946\n",
       "RSI     0.033104  0.002392  0.003164  1.000000  0.775835  0.659336\n",
       "MACtab  0.117441  0.085669  0.077377  0.775835  1.000000  0.953490\n",
       "MACsig  0.136640  0.117146  0.104946  0.659336  0.953490  1.000000"
      ]
     },
     "execution_count": 16,
     "metadata": {},
     "output_type": "execute_result"
    }
   ],
   "source": [
    "X_train.corr()"
   ]
  },
  {
   "cell_type": "code",
   "execution_count": 17,
   "id": "0496d49c",
   "metadata": {},
   "outputs": [],
   "source": [
    "def correlation(dataset, threshold):\n",
    "    col_corr = set()\n",
    "    corr_matrix = dataset.corr()\n",
    "    for i in range(len(corr_matrix.columns)):\n",
    "        for j in range(i):\n",
    "            if abs(corr_matrix.iloc[i, j]) > threshold:\n",
    "                colname = corr_matrix.columns[i]  \n",
    "                col_corr.add(colname)\n",
    "    return col_corr"
   ]
  },
  {
   "cell_type": "code",
   "execution_count": 18,
   "id": "bc8f87b0",
   "metadata": {},
   "outputs": [
    {
     "data": {
      "text/plain": [
       "3"
      ]
     },
     "execution_count": 18,
     "metadata": {},
     "output_type": "execute_result"
    }
   ],
   "source": [
    "corr_features = correlation(X_train, 0.85)\n",
    "len(set(corr_features))"
   ]
  },
  {
   "cell_type": "code",
   "execution_count": 19,
   "id": "27ed9e74",
   "metadata": {},
   "outputs": [
    {
     "data": {
      "text/plain": [
       "{'EMA', 'MACsig', 'SMA'}"
      ]
     },
     "execution_count": 19,
     "metadata": {},
     "output_type": "execute_result"
    }
   ],
   "source": [
    "corr_features #need to drop"
   ]
  },
  {
   "cell_type": "code",
   "execution_count": 20,
   "id": "cde01699",
   "metadata": {},
   "outputs": [
    {
     "name": "stderr",
     "output_type": "stream",
     "text": [
      "/Users/kishanmishra/opt/anaconda3/lib/python3.9/site-packages/sklearn/utils/validation.py:993: DataConversionWarning: A column-vector y was passed when a 1d array was expected. Please change the shape of y to (n_samples, ), for example using ravel().\n",
      "  y = column_or_1d(y, warn=True)\n"
     ]
    },
    {
     "data": {
      "text/plain": [
       "array([2.80320002, 2.5375304 , 2.68358219, 0.25426004, 0.43531369,\n",
       "       0.46374357])"
      ]
     },
     "execution_count": 20,
     "metadata": {},
     "output_type": "execute_result"
    }
   ],
   "source": [
    "from sklearn.feature_selection import mutual_info_regression\n",
    "# determine the mutual information\n",
    "mutual_info = mutual_info_regression(X_train,y_train )\n",
    "mutual_info"
   ]
  },
  {
   "cell_type": "code",
   "execution_count": 21,
   "id": "cf62e8f5",
   "metadata": {},
   "outputs": [
    {
     "data": {
      "text/plain": [
       "ST        2.803200\n",
       "EMA       2.683582\n",
       "SMA       2.537530\n",
       "MACsig    0.463744\n",
       "MACtab    0.435314\n",
       "RSI       0.254260\n",
       "dtype: float64"
      ]
     },
     "execution_count": 21,
     "metadata": {},
     "output_type": "execute_result"
    }
   ],
   "source": [
    "mutual_info = pd.Series(mutual_info)\n",
    "mutual_info.index = X_train.columns\n",
    "mutual_info.sort_values(ascending=False)"
   ]
  },
  {
   "cell_type": "code",
   "execution_count": 22,
   "id": "994b48a1",
   "metadata": {},
   "outputs": [
    {
     "data": {
      "text/plain": [
       "<AxesSubplot:>"
      ]
     },
     "execution_count": 22,
     "metadata": {},
     "output_type": "execute_result"
    },
    {
     "data": {
      "image/png": "[encoded data removed]",
      "text/plain": [
       "<Figure size 1080x360 with 1 Axes>"
      ]
     },
     "metadata": {
      "needs_background": "light"
     },
     "output_type": "display_data"
    }
   ],
   "source": [
    "mutual_info.sort_values(ascending=False).plot.bar(figsize=(15,5))"
   ]
  },
  {
   "cell_type": "code",
   "execution_count": 23,
   "id": "b1f46a51",
   "metadata": {},
   "outputs": [],
   "source": [
    "from sklearn.feature_selection import SelectPercentile"
   ]
  },
  {
   "cell_type": "code",
   "execution_count": 24,
   "id": "a642651d",
   "metadata": {},
   "outputs": [
    {
     "name": "stderr",
     "output_type": "stream",
     "text": [
      "/Users/kishanmishra/opt/anaconda3/lib/python3.9/site-packages/sklearn/utils/validation.py:993: DataConversionWarning: A column-vector y was passed when a 1d array was expected. Please change the shape of y to (n_samples, ), for example using ravel().\n",
      "  y = column_or_1d(y, warn=True)\n"
     ]
    },
    {
     "data": {
      "text/plain": [
       "SelectPercentile(percentile=50,\n",
       "                 score_func=<function mutual_info_regression at 0x7f9221ccf310>)"
      ]
     },
     "execution_count": 24,
     "metadata": {},
     "output_type": "execute_result"
    }
   ],
   "source": [
    "## Selecting the top 20 percentile\n",
    "selected_top_columns = SelectPercentile(mutual_info_regression, percentile=50)\n",
    "selected_top_columns.fit(X_train.fillna(0), y_train)"
   ]
  },
  {
   "cell_type": "code",
   "execution_count": 25,
   "id": "10735be5",
   "metadata": {},
   "outputs": [
    {
     "data": {
      "text/plain": [
       "array([ True,  True,  True, False, False, False])"
      ]
     },
     "execution_count": 25,
     "metadata": {},
     "output_type": "execute_result"
    }
   ],
   "source": [
    "selected_top_columns.get_support()"
   ]
  },
  {
   "cell_type": "code",
   "execution_count": 26,
   "id": "1af0836d",
   "metadata": {},
   "outputs": [
    {
     "data": {
      "text/plain": [
       "Index(['ST', 'SMA', 'EMA'], dtype='object')"
      ]
     },
     "execution_count": 26,
     "metadata": {},
     "output_type": "execute_result"
    }
   ],
   "source": [
    "X_train.columns[selected_top_columns.get_support()]"
   ]
  },
  {
   "cell_type": "code",
   "execution_count": 27,
   "id": "0009ce89",
   "metadata": {},
   "outputs": [],
   "source": [
    "#X_train.drop(['RSI','MACtab','MACsig'],axis=1,inplace=True)\n",
    "#X_test.drop(['RSI','MACtab','MACsig'],axis=1,inplace=True)"
   ]
  },
  {
   "cell_type": "code",
   "execution_count": 28,
   "id": "b7b5344b",
   "metadata": {},
   "outputs": [
    {
     "data": {
      "text/html": [
       "<div>\n",
       "<style scoped>\n",
       "    .dataframe tbody tr th:only-of-type {\n",
       "        vertical-align: middle;\n",
       "    }\n",
       "\n",
       "    .dataframe tbody tr th {\n",
       "        vertical-align: top;\n",
       "    }\n",
       "\n",
       "    .dataframe thead th {\n",
       "        text-align: right;\n",
       "    }\n",
       "</style>\n",
       "<table border=\"1\" class=\"dataframe\">\n",
       "  <thead>\n",
       "    <tr style=\"text-align: right;\">\n",
       "      <th></th>\n",
       "      <th>ST</th>\n",
       "      <th>SMA</th>\n",
       "      <th>EMA</th>\n",
       "      <th>RSI</th>\n",
       "      <th>MACtab</th>\n",
       "      <th>MACsig</th>\n",
       "    </tr>\n",
       "  </thead>\n",
       "  <tbody>\n",
       "    <tr>\n",
       "      <th>2082</th>\n",
       "      <td>2407.096855</td>\n",
       "      <td>2407.395</td>\n",
       "      <td>2405.384055</td>\n",
       "      <td>41.897068</td>\n",
       "      <td>-0.588886</td>\n",
       "      <td>-0.547038</td>\n",
       "    </tr>\n",
       "    <tr>\n",
       "      <th>2824</th>\n",
       "      <td>2508.522266</td>\n",
       "      <td>2508.460</td>\n",
       "      <td>2506.674895</td>\n",
       "      <td>49.667828</td>\n",
       "      <td>2.259935</td>\n",
       "      <td>3.576822</td>\n",
       "    </tr>\n",
       "    <tr>\n",
       "      <th>2702</th>\n",
       "      <td>2423.061705</td>\n",
       "      <td>2422.165</td>\n",
       "      <td>2422.358713</td>\n",
       "      <td>70.330199</td>\n",
       "      <td>5.362217</td>\n",
       "      <td>4.340271</td>\n",
       "    </tr>\n",
       "    <tr>\n",
       "      <th>1530</th>\n",
       "      <td>2513.997936</td>\n",
       "      <td>2512.425</td>\n",
       "      <td>2512.619103</td>\n",
       "      <td>45.067458</td>\n",
       "      <td>-0.584589</td>\n",
       "      <td>0.726150</td>\n",
       "    </tr>\n",
       "    <tr>\n",
       "      <th>2795</th>\n",
       "      <td>2496.975137</td>\n",
       "      <td>2500.710</td>\n",
       "      <td>2497.535786</td>\n",
       "      <td>63.692489</td>\n",
       "      <td>11.015753</td>\n",
       "      <td>12.719963</td>\n",
       "    </tr>\n",
       "    <tr>\n",
       "      <th>...</th>\n",
       "      <td>...</td>\n",
       "      <td>...</td>\n",
       "      <td>...</td>\n",
       "      <td>...</td>\n",
       "      <td>...</td>\n",
       "      <td>...</td>\n",
       "    </tr>\n",
       "    <tr>\n",
       "      <th>4964</th>\n",
       "      <td>2539.388219</td>\n",
       "      <td>2542.035</td>\n",
       "      <td>2546.442904</td>\n",
       "      <td>43.391869</td>\n",
       "      <td>-6.504710</td>\n",
       "      <td>-6.932516</td>\n",
       "    </tr>\n",
       "    <tr>\n",
       "      <th>3297</th>\n",
       "      <td>2454.559612</td>\n",
       "      <td>2454.695</td>\n",
       "      <td>2456.214673</td>\n",
       "      <td>54.402838</td>\n",
       "      <td>1.112452</td>\n",
       "      <td>1.391723</td>\n",
       "    </tr>\n",
       "    <tr>\n",
       "      <th>1686</th>\n",
       "      <td>2561.945241</td>\n",
       "      <td>2561.665</td>\n",
       "      <td>2559.264030</td>\n",
       "      <td>63.570114</td>\n",
       "      <td>7.694811</td>\n",
       "      <td>7.999184</td>\n",
       "    </tr>\n",
       "    <tr>\n",
       "      <th>2640</th>\n",
       "      <td>2403.796174</td>\n",
       "      <td>2402.015</td>\n",
       "      <td>2401.891126</td>\n",
       "      <td>46.126309</td>\n",
       "      <td>0.324226</td>\n",
       "      <td>1.554309</td>\n",
       "    </tr>\n",
       "    <tr>\n",
       "      <th>2765</th>\n",
       "      <td>2439.587320</td>\n",
       "      <td>2439.435</td>\n",
       "      <td>2439.242226</td>\n",
       "      <td>64.118504</td>\n",
       "      <td>2.870388</td>\n",
       "      <td>2.508263</td>\n",
       "    </tr>\n",
       "  </tbody>\n",
       "</table>\n",
       "<p>3546 rows × 6 columns</p>\n",
       "</div>"
      ],
      "text/plain": [
       "               ST       SMA          EMA        RSI     MACtab     MACsig\n",
       "2082  2407.096855  2407.395  2405.384055  41.897068  -0.588886  -0.547038\n",
       "2824  2508.522266  2508.460  2506.674895  49.667828   2.259935   3.576822\n",
       "2702  2423.061705  2422.165  2422.358713  70.330199   5.362217   4.340271\n",
       "1530  2513.997936  2512.425  2512.619103  45.067458  -0.584589   0.726150\n",
       "2795  2496.975137  2500.710  2497.535786  63.692489  11.015753  12.719963\n",
       "...           ...       ...          ...        ...        ...        ...\n",
       "4964  2539.388219  2542.035  2546.442904  43.391869  -6.504710  -6.932516\n",
       "3297  2454.559612  2454.695  2456.214673  54.402838   1.112452   1.391723\n",
       "1686  2561.945241  2561.665  2559.264030  63.570114   7.694811   7.999184\n",
       "2640  2403.796174  2402.015  2401.891126  46.126309   0.324226   1.554309\n",
       "2765  2439.587320  2439.435  2439.242226  64.118504   2.870388   2.508263\n",
       "\n",
       "[3546 rows x 6 columns]"
      ]
     },
     "execution_count": 28,
     "metadata": {},
     "output_type": "execute_result"
    }
   ],
   "source": [
    "X_train"
   ]
  },
  {
   "cell_type": "code",
   "execution_count": 29,
   "id": "cbdea9a8",
   "metadata": {},
   "outputs": [],
   "source": [
    "from sklearn.linear_model import LinearRegression\n",
    "model=LinearRegression().fit(X_train,y_train)\n",
    "pred=model.predict(X_test)"
   ]
  },
  {
   "cell_type": "code",
   "execution_count": 31,
   "id": "8c43ec48",
   "metadata": {},
   "outputs": [
    {
     "name": "stdout",
     "output_type": "stream",
     "text": [
      "Mean absolute error = 1.66\n",
      "Mean squared error = 7.23\n",
      "Root squared error= 2.69\n",
      "R2 score = 0.9993831219592866\n"
     ]
    }
   ],
   "source": [
    "import sklearn.metrics as sm\n",
    "print(\"Mean absolute error =\", round(sm.mean_absolute_error(y_test, pred), 2)) \n",
    "print(\"Mean squared error =\", round(sm.mean_squared_error(y_test, pred), 2)) \n",
    "print(\"Root squared error=\",round(sm.mean_squared_error(y_test,pred,squared=False),2))\n",
    "print(\"R2 score =\", sm.r2_score(y_test, pred))"
   ]
  },
  {
   "cell_type": "code",
   "execution_count": 32,
   "id": "999a193c",
   "metadata": {},
   "outputs": [],
   "source": [
    "#R2 score 1 says it's a good model."
   ]
  },
  {
   "cell_type": "code",
   "execution_count": 33,
   "id": "7167d264",
   "metadata": {},
   "outputs": [
    {
     "data": {
      "text/plain": [
       "array([-12.18842557])"
      ]
     },
     "execution_count": 33,
     "metadata": {},
     "output_type": "execute_result"
    }
   ],
   "source": [
    "# value of intercept\n",
    "model.intercept_"
   ]
  },
  {
   "cell_type": "code",
   "execution_count": 34,
   "id": "e4f429f0",
   "metadata": {},
   "outputs": [
    {
     "data": {
      "text/plain": [
       "array([[ 0.08118975, -0.97743925,  1.89630485,  0.2388774 ,  2.0745082 ,\n",
       "        -1.53772026]])"
      ]
     },
     "execution_count": 34,
     "metadata": {},
     "output_type": "execute_result"
    }
   ],
   "source": [
    "#Coefficient of all features\n",
    "model.coef_"
   ]
  },
  {
   "cell_type": "code",
   "execution_count": 35,
   "id": "4644379b",
   "metadata": {},
   "outputs": [],
   "source": [
    "#Evaluating model with Kfold validation"
   ]
  },
  {
   "cell_type": "code",
   "execution_count": 36,
   "id": "333d4c06",
   "metadata": {},
   "outputs": [
    {
     "data": {
      "text/plain": [
       "array([0.999307  , 0.99880624, 0.99951134, 0.99943111, 0.99922011,\n",
       "       0.9994316 , 0.99964416, 0.9993246 , 0.99922466, 0.99956986])"
      ]
     },
     "execution_count": 36,
     "metadata": {},
     "output_type": "execute_result"
    }
   ],
   "source": [
    "from sklearn.model_selection import cross_val_score\n",
    "from sklearn.model_selection import KFold\n",
    "import statistics as st\n",
    "cv = KFold(n_splits=10, random_state=1, shuffle=True)\n",
    "\n",
    "model = LinearRegression()\n",
    "\n",
    "scores = cross_val_score(model, X, Y, scoring='r2',\n",
    "                         cv=cv, n_jobs=-1)\n",
    "scores"
   ]
  },
  {
   "cell_type": "code",
   "execution_count": 40,
   "id": "dc48919f",
   "metadata": {},
   "outputs": [],
   "source": [
    "res=X_test.copy()\n",
    "res=res.join(y_test)\n",
    "res['Predicted_Close']=pred\n",
    "res.columns=['ST','SMA','EMA','RSI','MACtab','MACsig','Actual_Close','Predicted_Close']"
   ]
  },
  {
   "cell_type": "code",
   "execution_count": 41,
   "id": "f255928f",
   "metadata": {},
   "outputs": [],
   "source": [
    "res['error']=res['Actual_Close']-res['Predicted_Close']"
   ]
  },
  {
   "cell_type": "code",
   "execution_count": 42,
   "id": "9fd5e68e",
   "metadata": {},
   "outputs": [
    {
     "data": {
      "text/html": [
       "<div>\n",
       "<style scoped>\n",
       "    .dataframe tbody tr th:only-of-type {\n",
       "        vertical-align: middle;\n",
       "    }\n",
       "\n",
       "    .dataframe tbody tr th {\n",
       "        vertical-align: top;\n",
       "    }\n",
       "\n",
       "    .dataframe thead th {\n",
       "        text-align: right;\n",
       "    }\n",
       "</style>\n",
       "<table border=\"1\" class=\"dataframe\">\n",
       "  <thead>\n",
       "    <tr style=\"text-align: right;\">\n",
       "      <th></th>\n",
       "      <th>ST</th>\n",
       "      <th>SMA</th>\n",
       "      <th>EMA</th>\n",
       "      <th>RSI</th>\n",
       "      <th>MACtab</th>\n",
       "      <th>MACsig</th>\n",
       "      <th>Actual_Close</th>\n",
       "      <th>Predicted_Close</th>\n",
       "      <th>error</th>\n",
       "    </tr>\n",
       "  </thead>\n",
       "  <tbody>\n",
       "    <tr>\n",
       "      <th>4112</th>\n",
       "      <td>2641.363952</td>\n",
       "      <td>2642.410</td>\n",
       "      <td>2641.496134</td>\n",
       "      <td>61.216778</td>\n",
       "      <td>1.797719</td>\n",
       "      <td>1.351525</td>\n",
       "      <td>2643.60</td>\n",
       "      <td>2644.824328</td>\n",
       "      <td>-1.224328</td>\n",
       "    </tr>\n",
       "    <tr>\n",
       "      <th>3612</th>\n",
       "      <td>2591.066711</td>\n",
       "      <td>2594.960</td>\n",
       "      <td>2593.257558</td>\n",
       "      <td>33.952866</td>\n",
       "      <td>-2.090060</td>\n",
       "      <td>0.398703</td>\n",
       "      <td>2583.60</td>\n",
       "      <td>2582.532367</td>\n",
       "      <td>1.067633</td>\n",
       "    </tr>\n",
       "    <tr>\n",
       "      <th>335</th>\n",
       "      <td>2807.180422</td>\n",
       "      <td>2805.825</td>\n",
       "      <td>2806.277202</td>\n",
       "      <td>67.972935</td>\n",
       "      <td>7.099828</td>\n",
       "      <td>8.146461</td>\n",
       "      <td>2811.55</td>\n",
       "      <td>2813.198278</td>\n",
       "      <td>-1.648278</td>\n",
       "    </tr>\n",
       "    <tr>\n",
       "      <th>4681</th>\n",
       "      <td>2624.078358</td>\n",
       "      <td>2621.720</td>\n",
       "      <td>2621.837179</td>\n",
       "      <td>40.807833</td>\n",
       "      <td>-2.915857</td>\n",
       "      <td>-3.659970</td>\n",
       "      <td>2620.55</td>\n",
       "      <td>2619.417450</td>\n",
       "      <td>1.132550</td>\n",
       "    </tr>\n",
       "    <tr>\n",
       "      <th>167</th>\n",
       "      <td>2642.248803</td>\n",
       "      <td>2641.620</td>\n",
       "      <td>2642.982850</td>\n",
       "      <td>51.859279</td>\n",
       "      <td>0.329412</td>\n",
       "      <td>-1.779513</td>\n",
       "      <td>2644.85</td>\n",
       "      <td>2648.020963</td>\n",
       "      <td>-3.170963</td>\n",
       "    </tr>\n",
       "    <tr>\n",
       "      <th>181</th>\n",
       "      <td>2648.461323</td>\n",
       "      <td>2646.780</td>\n",
       "      <td>2647.951743</td>\n",
       "      <td>58.384134</td>\n",
       "      <td>2.224545</td>\n",
       "      <td>1.208311</td>\n",
       "      <td>2652.05</td>\n",
       "      <td>2653.799977</td>\n",
       "      <td>-1.749977</td>\n",
       "    </tr>\n",
       "    <tr>\n",
       "      <th>1323</th>\n",
       "      <td>2514.774270</td>\n",
       "      <td>2520.230</td>\n",
       "      <td>2520.381675</td>\n",
       "      <td>19.531886</td>\n",
       "      <td>-7.325030</td>\n",
       "      <td>-5.778029</td>\n",
       "      <td>2508.00</td>\n",
       "      <td>2506.380600</td>\n",
       "      <td>1.619400</td>\n",
       "    </tr>\n",
       "    <tr>\n",
       "      <th>3495</th>\n",
       "      <td>2575.829214</td>\n",
       "      <td>2583.440</td>\n",
       "      <td>2582.325139</td>\n",
       "      <td>47.826138</td>\n",
       "      <td>-0.224378</td>\n",
       "      <td>0.473061</td>\n",
       "      <td>2580.95</td>\n",
       "      <td>2578.894182</td>\n",
       "      <td>2.055818</td>\n",
       "    </tr>\n",
       "    <tr>\n",
       "      <th>3857</th>\n",
       "      <td>2565.895256</td>\n",
       "      <td>2565.820</td>\n",
       "      <td>2567.124046</td>\n",
       "      <td>50.636632</td>\n",
       "      <td>-0.518793</td>\n",
       "      <td>-1.010499</td>\n",
       "      <td>2568.00</td>\n",
       "      <td>2568.826117</td>\n",
       "      <td>-0.826117</td>\n",
       "    </tr>\n",
       "    <tr>\n",
       "      <th>3402</th>\n",
       "      <td>2563.510293</td>\n",
       "      <td>2563.155</td>\n",
       "      <td>2560.472442</td>\n",
       "      <td>58.904482</td>\n",
       "      <td>7.495840</td>\n",
       "      <td>10.572848</td>\n",
       "      <td>2559.00</td>\n",
       "      <td>2559.413366</td>\n",
       "      <td>-0.413366</td>\n",
       "    </tr>\n",
       "    <tr>\n",
       "      <th>1294</th>\n",
       "      <td>2531.251673</td>\n",
       "      <td>2534.440</td>\n",
       "      <td>2538.773789</td>\n",
       "      <td>39.912579</td>\n",
       "      <td>-7.462809</td>\n",
       "      <td>-8.273672</td>\n",
       "      <td>2536.80</td>\n",
       "      <td>2537.126303</td>\n",
       "      <td>-0.326303</td>\n",
       "    </tr>\n",
       "    <tr>\n",
       "      <th>72</th>\n",
       "      <td>2663.240215</td>\n",
       "      <td>2652.730</td>\n",
       "      <td>2654.989568</td>\n",
       "      <td>62.534018</td>\n",
       "      <td>4.602443</td>\n",
       "      <td>2.334608</td>\n",
       "      <td>2664.00</td>\n",
       "      <td>2666.722323</td>\n",
       "      <td>-2.722323</td>\n",
       "    </tr>\n",
       "    <tr>\n",
       "      <th>615</th>\n",
       "      <td>2752.543148</td>\n",
       "      <td>2746.255</td>\n",
       "      <td>2747.454596</td>\n",
       "      <td>74.347064</td>\n",
       "      <td>6.992724</td>\n",
       "      <td>4.713465</td>\n",
       "      <td>2762.00</td>\n",
       "      <td>2762.022190</td>\n",
       "      <td>-0.022190</td>\n",
       "    </tr>\n",
       "    <tr>\n",
       "      <th>2722</th>\n",
       "      <td>2423.456545</td>\n",
       "      <td>2424.760</td>\n",
       "      <td>2425.110113</td>\n",
       "      <td>53.569567</td>\n",
       "      <td>1.737443</td>\n",
       "      <td>1.981994</td>\n",
       "      <td>2425.20</td>\n",
       "      <td>2426.617000</td>\n",
       "      <td>-1.417000</td>\n",
       "    </tr>\n",
       "    <tr>\n",
       "      <th>3008</th>\n",
       "      <td>2422.624909</td>\n",
       "      <td>2436.550</td>\n",
       "      <td>2441.279948</td>\n",
       "      <td>18.196515</td>\n",
       "      <td>-24.890097</td>\n",
       "      <td>-18.825401</td>\n",
       "      <td>2412.35</td>\n",
       "      <td>2413.995487</td>\n",
       "      <td>-1.645487</td>\n",
       "    </tr>\n",
       "    <tr>\n",
       "      <th>1940</th>\n",
       "      <td>2408.531419</td>\n",
       "      <td>2408.870</td>\n",
       "      <td>2409.817175</td>\n",
       "      <td>37.532680</td>\n",
       "      <td>-3.476964</td>\n",
       "      <td>-1.926090</td>\n",
       "      <td>2403.70</td>\n",
       "      <td>2403.298031</td>\n",
       "      <td>0.401969</td>\n",
       "    </tr>\n",
       "    <tr>\n",
       "      <th>1973</th>\n",
       "      <td>2447.667803</td>\n",
       "      <td>2443.650</td>\n",
       "      <td>2441.563327</td>\n",
       "      <td>60.802144</td>\n",
       "      <td>6.611081</td>\n",
       "      <td>6.565106</td>\n",
       "      <td>2442.80</td>\n",
       "      <td>2446.109745</td>\n",
       "      <td>-3.309745</td>\n",
       "    </tr>\n",
       "    <tr>\n",
       "      <th>146</th>\n",
       "      <td>2646.937800</td>\n",
       "      <td>2654.985</td>\n",
       "      <td>2649.576093</td>\n",
       "      <td>22.033085</td>\n",
       "      <td>-4.858853</td>\n",
       "      <td>-1.785321</td>\n",
       "      <td>2617.10</td>\n",
       "      <td>2629.962015</td>\n",
       "      <td>-12.862015</td>\n",
       "    </tr>\n",
       "    <tr>\n",
       "      <th>1395</th>\n",
       "      <td>2469.065694</td>\n",
       "      <td>2476.400</td>\n",
       "      <td>2478.038323</td>\n",
       "      <td>20.953099</td>\n",
       "      <td>-11.257313</td>\n",
       "      <td>-8.983553</td>\n",
       "      <td>2461.60</td>\n",
       "      <td>2462.325931</td>\n",
       "      <td>-0.725931</td>\n",
       "    </tr>\n",
       "    <tr>\n",
       "      <th>3941</th>\n",
       "      <td>2590.708942</td>\n",
       "      <td>2590.810</td>\n",
       "      <td>2591.383822</td>\n",
       "      <td>53.707571</td>\n",
       "      <td>0.505650</td>\n",
       "      <td>0.351116</td>\n",
       "      <td>2592.05</td>\n",
       "      <td>2593.183469</td>\n",
       "      <td>-1.133469</td>\n",
       "    </tr>\n",
       "  </tbody>\n",
       "</table>\n",
       "</div>"
      ],
      "text/plain": [
       "               ST       SMA          EMA        RSI     MACtab     MACsig  \\\n",
       "4112  2641.363952  2642.410  2641.496134  61.216778   1.797719   1.351525   \n",
       "3612  2591.066711  2594.960  2593.257558  33.952866  -2.090060   0.398703   \n",
       "335   2807.180422  2805.825  2806.277202  67.972935   7.099828   8.146461   \n",
       "4681  2624.078358  2621.720  2621.837179  40.807833  -2.915857  -3.659970   \n",
       "167   2642.248803  2641.620  2642.982850  51.859279   0.329412  -1.779513   \n",
       "181   2648.461323  2646.780  2647.951743  58.384134   2.224545   1.208311   \n",
       "1323  2514.774270  2520.230  2520.381675  19.531886  -7.325030  -5.778029   \n",
       "3495  2575.829214  2583.440  2582.325139  47.826138  -0.224378   0.473061   \n",
       "3857  2565.895256  2565.820  2567.124046  50.636632  -0.518793  -1.010499   \n",
       "3402  2563.510293  2563.155  2560.472442  58.904482   7.495840  10.572848   \n",
       "1294  2531.251673  2534.440  2538.773789  39.912579  -7.462809  -8.273672   \n",
       "72    2663.240215  2652.730  2654.989568  62.534018   4.602443   2.334608   \n",
       "615   2752.543148  2746.255  2747.454596  74.347064   6.992724   4.713465   \n",
       "2722  2423.456545  2424.760  2425.110113  53.569567   1.737443   1.981994   \n",
       "3008  2422.624909  2436.550  2441.279948  18.196515 -24.890097 -18.825401   \n",
       "1940  2408.531419  2408.870  2409.817175  37.532680  -3.476964  -1.926090   \n",
       "1973  2447.667803  2443.650  2441.563327  60.802144   6.611081   6.565106   \n",
       "146   2646.937800  2654.985  2649.576093  22.033085  -4.858853  -1.785321   \n",
       "1395  2469.065694  2476.400  2478.038323  20.953099 -11.257313  -8.983553   \n",
       "3941  2590.708942  2590.810  2591.383822  53.707571   0.505650   0.351116   \n",
       "\n",
       "      Actual_Close  Predicted_Close      error  \n",
       "4112       2643.60      2644.824328  -1.224328  \n",
       "3612       2583.60      2582.532367   1.067633  \n",
       "335        2811.55      2813.198278  -1.648278  \n",
       "4681       2620.55      2619.417450   1.132550  \n",
       "167        2644.85      2648.020963  -3.170963  \n",
       "181        2652.05      2653.799977  -1.749977  \n",
       "1323       2508.00      2506.380600   1.619400  \n",
       "3495       2580.95      2578.894182   2.055818  \n",
       "3857       2568.00      2568.826117  -0.826117  \n",
       "3402       2559.00      2559.413366  -0.413366  \n",
       "1294       2536.80      2537.126303  -0.326303  \n",
       "72         2664.00      2666.722323  -2.722323  \n",
       "615        2762.00      2762.022190  -0.022190  \n",
       "2722       2425.20      2426.617000  -1.417000  \n",
       "3008       2412.35      2413.995487  -1.645487  \n",
       "1940       2403.70      2403.298031   0.401969  \n",
       "1973       2442.80      2446.109745  -3.309745  \n",
       "146        2617.10      2629.962015 -12.862015  \n",
       "1395       2461.60      2462.325931  -0.725931  \n",
       "3941       2592.05      2593.183469  -1.133469  "
      ]
     },
     "execution_count": 42,
     "metadata": {},
     "output_type": "execute_result"
    }
   ],
   "source": [
    "res.head(20)"
   ]
  },
  {
   "cell_type": "code",
   "execution_count": null,
   "id": "ca01196b",
   "metadata": {},
   "outputs": [],
   "source": []
  }
 ],
 "metadata": {
  "kernelspec": {
   "display_name": "Python 3 (ipykernel)",
   "language": "python",
   "name": "python3"
  },
  "language_info": {
   "codemirror_mode": {
    "name": "ipython",
    "version": 3
   },
   "file_extension": ".py",
   "mimetype": "text/x-python",
   "name": "python",
   "nbconvert_exporter": "python",
   "pygments_lexer": "ipython3",
   "version": "3.9.12"
  }
 },
 "nbformat": 4,
 "nbformat_minor": 5
}
